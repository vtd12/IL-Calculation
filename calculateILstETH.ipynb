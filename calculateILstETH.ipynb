{
 "cells": [
  {
   "cell_type": "code",
   "execution_count": 17,
   "metadata": {},
   "outputs": [
    {
     "data": {
      "text/plain": [
       "True"
      ]
     },
     "execution_count": 17,
     "metadata": {},
     "output_type": "execute_result"
    }
   ],
   "source": [
    "import time\n",
    "from web3 import Web3, constants\n",
    "from config import *\n",
    "import math\n",
    "from datetime import date\n",
    "from math_utils import *\n",
    "from network_utils import *\n",
    "from dotenv import load_dotenv\n",
    "import os\n",
    "\n",
    "load_dotenv()"
   ]
  },
  {
   "cell_type": "code",
   "execution_count": 18,
   "metadata": {},
   "outputs": [],
   "source": [
    "filepath = \"data/stETH/\""
   ]
  },
  {
   "cell_type": "code",
   "execution_count": 19,
   "metadata": {},
   "outputs": [],
   "source": [
    "import time\n",
    "import datetime\n",
    "\n",
    "timestamp = int(time.mktime(datetime.datetime.strptime(\"17/07/2023\", \"%d/%m/%Y\").timetuple()))\n",
    "\n",
    "block_number = get_block_by_timestamp_eth(int(timestamp))"
   ]
  },
  {
   "cell_type": "code",
   "execution_count": 20,
   "metadata": {},
   "outputs": [
    {
     "data": {
      "text/plain": [
       "17707194"
      ]
     },
     "execution_count": 20,
     "metadata": {},
     "output_type": "execute_result"
    }
   ],
   "source": [
    "block_number"
   ]
  },
  {
   "cell_type": "code",
   "execution_count": 21,
   "metadata": {},
   "outputs": [
    {
     "data": {
      "text/plain": [
       "{'name': 'SY stETH',\n",
       " 'SY': '0xcbC72d92b2dc8187414F6734718563898740C0BC',\n",
       " 'YT': '0xc3863CCcd012f8E45D72Ec87c5A9C4F77e1C7549',\n",
       " 'PT': '0x7758896b6AC966BbABcf143eFA963030f17D3EdF',\n",
       " 'market': '0xD0354D4e7bCf345fB117cabe41aCaDb724eccCa2',\n",
       " 'expiry': 1735171200,\n",
       " 'scalarRoot': '76568950000000000000',\n",
       " 'initAnchor': '1104003000000000000'}"
      ]
     },
     "execution_count": 21,
     "metadata": {},
     "output_type": "execute_result"
    }
   ],
   "source": [
    "with open(\"STETH-26DEC2024.json\", 'r') as f:\n",
    "  pool = json.load(f)\n",
    "\n",
    "pool"
   ]
  },
  {
   "cell_type": "code",
   "execution_count": 22,
   "metadata": {},
   "outputs": [
    {
     "name": "stdout",
     "output_type": "stream",
     "text": [
      "1.132254404648125\n"
     ]
    }
   ],
   "source": [
    "abi_url = f'https://api.etherscan.io/api?module=contract&action=getabi&address={pool[\"YT\"]}&format=raw'\n",
    "abi = requests.get(abi_url).text\n",
    "\n",
    "YT_contract = web3_ETH.eth.contract(pool[\"YT\"], abi=abi)\n",
    "index = to_normal_float(YT_contract.functions.pyIndexStored().call(block_identifier=block_number))\n",
    "print(index)"
   ]
  },
  {
   "cell_type": "code",
   "execution_count": 24,
   "metadata": {},
   "outputs": [
    {
     "name": "stdout",
     "output_type": "stream",
     "text": [
      "1.132254404648125\n"
     ]
    }
   ],
   "source": [
    "YT_contract = get_contract_eth(address=pool[\"YT\"])\n",
    "index = to_normal_float(YT_contract.functions.pyIndexStored().call(block_identifier=block_number))\n",
    "print(index)\n",
    "\n",
    "time.sleep(5)\n",
    "market_contract = get_contract_eth(address=pool[\"market\"])\n",
    "\n",
    "time.sleep(5)\n",
    "SY_contract = get_contract_eth(address=pool[\"SY\"])"
   ]
  },
  {
   "cell_type": "code",
   "execution_count": 25,
   "metadata": {},
   "outputs": [
    {
     "name": "stdout",
     "output_type": "stream",
     "text": [
      "This SY has no reward.\n"
     ]
    },
    {
     "data": {
      "text/plain": [
       "{'date': '16-07-23',\n",
       " 'asset': 5475.626268503404,\n",
       " 'PT': 1706.1881085480825,\n",
       " 'LP': 3426.534417543608,\n",
       " 'SY': 4836.536937956021,\n",
       " 'exchange_rate': 1.0634329047497038,\n",
       " 'X_reward_index': 0,\n",
       " 'PENDLE_reward_index': 613.9515378777837,\n",
       " 'average_boost_factor': 1.6878209402096314,\n",
       " 'SY_index': 1.1321377958538803}"
      ]
     },
     "execution_count": 25,
     "metadata": {},
     "output_type": "execute_result"
    }
   ],
   "source": [
    "timestamp = int(time.mktime(datetime.datetime.strptime(\"16/07/2023\", \"%d/%m/%Y\").timetuple()))\n",
    "data_onchain = get_info(SY_contract, YT_contract, market_contract, timestamp, 'eth')\n",
    "data_onchain\n"
   ]
  },
  {
   "cell_type": "code",
   "execution_count": 26,
   "metadata": {},
   "outputs": [
    {
     "name": "stdout",
     "output_type": "stream",
     "text": [
      "This SY has no reward.\n",
      "This SY has no reward.\n",
      "This SY has no reward.\n",
      "This SY has no reward.\n",
      "This SY has no reward.\n",
      "This SY has no reward.\n",
      "This SY has no reward.\n",
      "This SY has no reward.\n",
      "This SY has no reward.\n",
      "This SY has no reward.\n",
      "This SY has no reward.\n",
      "This SY has no reward.\n",
      "This SY has no reward.\n",
      "This SY has no reward.\n",
      "This SY has no reward.\n",
      "This SY has no reward.\n",
      "This SY has no reward.\n",
      "This SY has no reward.\n",
      "This SY has no reward.\n",
      "This SY has no reward.\n",
      "This SY has no reward.\n",
      "This SY has no reward.\n",
      "This SY has no reward.\n"
     ]
    }
   ],
   "source": [
    "import pandas as pd\n",
    "\n",
    "data_df = pd.DataFrame()\n",
    "\n",
    "timestamp_start = int(time.mktime(datetime.datetime.strptime(\"24/04/2023\", \"%d/%m/%Y\").timetuple()))\n",
    "timestamp_end = int(time.mktime(datetime.datetime.strptime(\"24/07/2023\", \"%d/%m/%Y\").timetuple()))\n",
    "\n",
    "for i in range(timestamp_start, timestamp_end, DAY_DELTA * DAY):\n",
    "    data_onchain = pd.DataFrame(get_info(SY_contract, YT_contract, market_contract, i, 'eth'), index=[0])\n",
    "    data_df = pd.concat([data_df, data_onchain], ignore_index=True)"
   ]
  },
  {
   "cell_type": "code",
   "execution_count": 27,
   "metadata": {},
   "outputs": [
    {
     "name": "stdout",
     "output_type": "stream",
     "text": [
      "2.046711752047126\n",
      "2.0472804907149067\n",
      "2.0477663569368527\n",
      "2.048654292646775\n",
      "2.0499963943109916\n",
      "2.0516982120697103\n",
      "2.052787797317024\n",
      "2.0534262132193053\n",
      "2.0541284358896377\n",
      "2.0554941159432776\n",
      "2.0560072040549673\n",
      "2.058209381774073\n",
      "2.0586878102059534\n",
      "2.0597219512254306\n",
      "2.0600161377986517\n",
      "2.057511819542649\n",
      "2.060042036090799\n",
      "2.0625152690150887\n",
      "2.063570794991378\n",
      "2.0642601930977835\n",
      "2.0656445992764545\n",
      "2.066460485421627\n",
      "2.0675606712693173\n"
     ]
    }
   ],
   "source": [
    "n = len(data_df)\n",
    "for i in range(n):\n",
    "    print(data_df.loc[i, \"PT\"]/(data_df.loc[i, \"exchange_rate\"]*data_df.loc[i, \"LP\"]) + data_df.loc[i, \"asset\"]/data_df.loc[i, \"LP\"])"
   ]
  },
  {
   "cell_type": "code",
   "execution_count": 28,
   "metadata": {},
   "outputs": [],
   "source": [
    "IL_A1 = IL(data_df, 'A', False, ETH, 0)\n",
    "IL_A2 = IL(data_df, 'A', True, ETH, 0)\n",
    "IL_B1 = IL(data_df, 'B', False, ETH, 0)\n",
    "IL_B2 = IL(data_df, 'B', True, ETH, 0)\n",
    "IL_C1 = IL(data_df, 'C', False, ETH, 0)\n",
    "IL_C2 = IL(data_df, 'C', True, ETH, 0)"
   ]
  },
  {
   "cell_type": "code",
   "execution_count": 29,
   "metadata": {},
   "outputs": [],
   "source": [
    "write_array_to_csv(IL_A1, filepath + \"IL_A1.csv\", timestamp_start)\n",
    "write_array_to_csv(IL_A2, filepath + \"IL_A2.csv\", timestamp_start)\n",
    "write_array_to_csv(IL_B1, filepath + \"IL_B1.csv\", timestamp_start)\n",
    "write_array_to_csv(IL_B2, filepath + \"IL_B2.csv\", timestamp_start)\n",
    "write_array_to_csv(IL_C1, filepath + \"IL_C1.csv\", timestamp_start)\n",
    "write_array_to_csv(IL_C2, filepath + \"IL_C2.csv\", timestamp_start)"
   ]
  }
 ],
 "metadata": {
  "kernelspec": {
   "display_name": "BC",
   "language": "python",
   "name": "python3"
  },
  "language_info": {
   "codemirror_mode": {
    "name": "ipython",
    "version": 3
   },
   "file_extension": ".py",
   "mimetype": "text/x-python",
   "name": "python",
   "nbconvert_exporter": "python",
   "pygments_lexer": "ipython3",
   "version": "3.10.4"
  },
  "orig_nbformat": 4
 },
 "nbformat": 4,
 "nbformat_minor": 2
}
