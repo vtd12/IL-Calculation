{
 "cells": [
  {
   "cell_type": "code",
   "execution_count": 11,
   "metadata": {},
   "outputs": [
    {
     "data": {
      "text/plain": [
       "True"
      ]
     },
     "execution_count": 11,
     "metadata": {},
     "output_type": "execute_result"
    }
   ],
   "source": [
    "import time\n",
    "from config import *\n",
    "import math\n",
    "from datetime import date\n",
    "from math_utils import *\n",
    "from network_utils import *\n",
    "from dotenv import load_dotenv\n",
    "import os\n",
    "\n",
    "load_dotenv()"
   ]
  },
  {
   "cell_type": "code",
   "execution_count": 12,
   "metadata": {},
   "outputs": [],
   "source": [
    "filepath = \"data/GLP/\""
   ]
  },
  {
   "cell_type": "code",
   "execution_count": 13,
   "metadata": {},
   "outputs": [],
   "source": [
    "import time\n",
    "import datetime\n",
    "\n",
    "timestamp = int(time.mktime(datetime.datetime.strptime(\"17/07/2023\", \"%d/%m/%Y\").timetuple()))\n",
    "\n",
    "block_number = get_block_by_timestamp_arb(int(timestamp))"
   ]
  },
  {
   "cell_type": "code",
   "execution_count": 14,
   "metadata": {},
   "outputs": [
    {
     "data": {
      "text/plain": [
       "111858291"
      ]
     },
     "execution_count": 14,
     "metadata": {},
     "output_type": "execute_result"
    }
   ],
   "source": [
    "block_number"
   ]
  },
  {
   "cell_type": "code",
   "execution_count": 15,
   "metadata": {},
   "outputs": [
    {
     "data": {
      "text/plain": [
       "{'name': 'SY GLP',\n",
       " 'SY': '0x2066a650AF4b6895f72E618587Aad5e8120B7790',\n",
       " 'YT': '0x56051f8e46b67b4d286454995dbc6f5f3c433e34',\n",
       " 'PT': '0x96015d0fb97139567a9ba675951816a0bb719e3c',\n",
       " 'market': '0x7D49E5Adc0EAAD9C027857767638613253eF125f',\n",
       " 'expiry': 1711584000,\n",
       " 'scalarRoot': '10484880000000000000',\n",
       " 'initAnchor': '1285295000000000000'}"
      ]
     },
     "execution_count": 15,
     "metadata": {},
     "output_type": "execute_result"
    }
   ],
   "source": [
    "with open(\"GLP-28MARCH2024.json\", 'r') as f:\n",
    "  pool = json.load(f)\n",
    "\n",
    "pool"
   ]
  },
  {
   "cell_type": "code",
   "execution_count": 17,
   "metadata": {},
   "outputs": [
    {
     "name": "stdout",
     "output_type": "stream",
     "text": [
      "1.0\n"
     ]
    }
   ],
   "source": [
    "YT_contract = get_contract_arb(address=pool[\"YT\"])\n",
    "index = to_normal_float(YT_contract.functions.pyIndexStored().call(block_identifier=block_number))\n",
    "print(index)\n",
    "\n",
    "time.sleep(5)\n",
    "market_contract = get_contract_arb(address=pool[\"market\"])\n",
    "\n",
    "time.sleep(5)\n",
    "SY_contract = get_contract_arb(address=pool[\"SY\"])"
   ]
  },
  {
   "cell_type": "code",
   "execution_count": 18,
   "metadata": {},
   "outputs": [
    {
     "data": {
      "text/plain": [
       "{'date': '16-07-23',\n",
       " 'asset': 14923635.628499085,\n",
       " 'PT': 5385206.212491589,\n",
       " 'LP': 10436069.503493262,\n",
       " 'SY': 14923635.628499085,\n",
       " 'exchange_rate': 1.1103840174259973,\n",
       " 'X_reward_index': 4.1199165529132e-05,\n",
       " 'PENDLE_reward_index': 0.5914651399936859,\n",
       " 'average_boost_factor': 1.7556146574750757,\n",
       " 'SY_index': 1.0}"
      ]
     },
     "execution_count": 18,
     "metadata": {},
     "output_type": "execute_result"
    }
   ],
   "source": [
    "timestamp = int(time.mktime(datetime.datetime.strptime(\"16/07/2023\", \"%d/%m/%Y\").timetuple()))\n",
    "data_onchain = get_info(SY_contract, YT_contract, market_contract, timestamp, 'arb')\n",
    "data_onchain\n"
   ]
  },
  {
   "cell_type": "code",
   "execution_count": 19,
   "metadata": {},
   "outputs": [],
   "source": [
    "import pandas as pd\n",
    "\n",
    "data_df = pd.DataFrame()\n",
    "\n",
    "timestamp_start = int(time.mktime(datetime.datetime.strptime(\"24/04/2023\", \"%d/%m/%Y\").timetuple()))\n",
    "timestamp_end = int(time.mktime(datetime.datetime.strptime(\"24/07/2023\", \"%d/%m/%Y\").timetuple()))\n",
    "\n",
    "for i in range(timestamp_start, timestamp_end, DAY_DELTA * DAY):\n",
    "    data_onchain = pd.DataFrame(get_info(SY_contract, YT_contract, market_contract, i, 'arb'), index=[0])\n",
    "    data_df = pd.concat([data_df, data_onchain], ignore_index=True)"
   ]
  },
  {
   "cell_type": "code",
   "execution_count": 23,
   "metadata": {},
   "outputs": [],
   "source": [
    "IL_A1 = IL(data_df, 'A', False, GLP, ETH)\n",
    "IL_A2 = IL(data_df, 'A', True, GLP, ETH)\n",
    "IL_B1 = IL(data_df, 'B', False, GLP, ETH)\n",
    "IL_B2 = IL(data_df, 'B', True, GLP, ETH)\n",
    "IL_C1 = IL(data_df, 'C', False, GLP, ETH)\n",
    "IL_C2 = IL(data_df, 'C', True, GLP, ETH)"
   ]
  },
  {
   "cell_type": "code",
   "execution_count": 24,
   "metadata": {},
   "outputs": [],
   "source": [
    "write_array_to_csv(IL_A1, filepath + \"IL_A1.csv\", timestamp_start)\n",
    "write_array_to_csv(IL_A2, filepath + \"IL_A2.csv\", timestamp_start)\n",
    "write_array_to_csv(IL_B1, filepath + \"IL_B1.csv\", timestamp_start)\n",
    "write_array_to_csv(IL_B2, filepath + \"IL_B2.csv\", timestamp_start)\n",
    "write_array_to_csv(IL_C1, filepath + \"IL_C1.csv\", timestamp_start)\n",
    "write_array_to_csv(IL_C2, filepath + \"IL_C2.csv\", timestamp_start)"
   ]
  }
 ],
 "metadata": {
  "kernelspec": {
   "display_name": "BC",
   "language": "python",
   "name": "python3"
  },
  "language_info": {
   "codemirror_mode": {
    "name": "ipython",
    "version": 3
   },
   "file_extension": ".py",
   "mimetype": "text/x-python",
   "name": "python",
   "nbconvert_exporter": "python",
   "pygments_lexer": "ipython3",
   "version": "3.10.4"
  },
  "orig_nbformat": 4
 },
 "nbformat": 4,
 "nbformat_minor": 2
}
