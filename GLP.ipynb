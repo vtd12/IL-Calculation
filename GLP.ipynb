{
 "cells": [
  {
   "cell_type": "code",
   "execution_count": 1,
   "metadata": {},
   "outputs": [
    {
     "data": {
      "text/plain": [
       "True"
      ]
     },
     "execution_count": 1,
     "metadata": {},
     "output_type": "execute_result"
    }
   ],
   "source": [
    "import time\n",
    "from config import *\n",
    "import math\n",
    "from datetime import date\n",
    "from math_utils import *\n",
    "from network_utils import *\n",
    "from dotenv import load_dotenv\n",
    "import os\n",
    "\n",
    "load_dotenv()"
   ]
  },
  {
   "cell_type": "code",
   "execution_count": 2,
   "metadata": {},
   "outputs": [],
   "source": [
    "filepath = \"data/GLP/\""
   ]
  },
  {
   "cell_type": "code",
   "execution_count": 3,
   "metadata": {},
   "outputs": [],
   "source": [
    "import time\n",
    "import datetime\n",
    "\n",
    "timestamp = int(time.mktime(datetime.datetime.strptime(\"17/07/2023\", \"%d/%m/%Y\").timetuple()))\n",
    "\n",
    "block_number = get_block_by_timestamp_arb(int(timestamp))"
   ]
  },
  {
   "cell_type": "code",
   "execution_count": 4,
   "metadata": {},
   "outputs": [
    {
     "data": {
      "text/plain": [
       "111858291"
      ]
     },
     "execution_count": 4,
     "metadata": {},
     "output_type": "execute_result"
    }
   ],
   "source": [
    "block_number"
   ]
  },
  {
   "cell_type": "code",
   "execution_count": 5,
   "metadata": {},
   "outputs": [
    {
     "data": {
      "text/plain": [
       "{'name': 'SY GLP',\n",
       " 'SY': '0x2066a650AF4b6895f72E618587Aad5e8120B7790',\n",
       " 'YT': '0x56051f8e46b67b4d286454995dbc6f5f3c433e34',\n",
       " 'PT': '0x96015d0fb97139567a9ba675951816a0bb719e3c',\n",
       " 'market': '0x7D49E5Adc0EAAD9C027857767638613253eF125f',\n",
       " 'expiry': 1711584000,\n",
       " 'scalarRoot': '10484880000000000000',\n",
       " 'initAnchor': '1285295000000000000'}"
      ]
     },
     "execution_count": 5,
     "metadata": {},
     "output_type": "execute_result"
    }
   ],
   "source": [
    "with open(\"GLP-28MARCH2024.json\", 'r') as f:\n",
    "  pool = json.load(f)\n",
    "\n",
    "pool"
   ]
  },
  {
   "cell_type": "code",
   "execution_count": 6,
   "metadata": {},
   "outputs": [
    {
     "name": "stdout",
     "output_type": "stream",
     "text": [
      "1.0\n"
     ]
    }
   ],
   "source": [
    "YT_contract = get_contract_arb(address=pool[\"YT\"])\n",
    "index = to_normal_float(YT_contract.functions.pyIndexStored().call(block_identifier=block_number))\n",
    "print(index)\n",
    "\n",
    "time.sleep(5)\n",
    "market_contract = get_contract_arb(address=pool[\"market\"])\n",
    "\n",
    "time.sleep(5)\n",
    "SY_contract = get_contract_arb(address=pool[\"SY\"])"
   ]
  },
  {
   "cell_type": "code",
   "execution_count": 7,
   "metadata": {},
   "outputs": [
    {
     "data": {
      "text/plain": [
       "{'date': '16-07-23',\n",
       " 'asset': 14923635.628499085,\n",
       " 'PT': 5385206.212491589,\n",
       " 'LP': 10436069.503493262,\n",
       " 'SY': 14923635.628499085,\n",
       " 'exchange_rate': 1.1103840174259973,\n",
       " 'X_reward_index': 4.1199165529132e-05,\n",
       " 'PENDLE_reward_index': 0.5914651399936859,\n",
       " 'average_boost_factor': 1.7556146574750757,\n",
       " 'SY_index': 1.0}"
      ]
     },
     "execution_count": 7,
     "metadata": {},
     "output_type": "execute_result"
    }
   ],
   "source": [
    "timestamp = int(time.mktime(datetime.datetime.strptime(\"16/07/2023\", \"%d/%m/%Y\").timetuple()))\n",
    "data_onchain = get_info(SY_contract, YT_contract, market_contract, timestamp, 'arb')\n",
    "data_onchain\n"
   ]
  },
  {
   "cell_type": "code",
   "execution_count": 8,
   "metadata": {},
   "outputs": [],
   "source": [
    "import pandas as pd\n",
    "\n",
    "data_df = pd.DataFrame()\n",
    "\n",
    "timestamp_start = int(time.mktime(datetime.datetime.strptime(\"24/04/2023\", \"%d/%m/%Y\").timetuple()))\n",
    "timestamp_end = int(time.mktime(datetime.datetime.strptime(\"24/07/2023\", \"%d/%m/%Y\").timetuple()))\n",
    "\n",
    "for i in range(timestamp_start, timestamp_end, DAY_DELTA * DAY):\n",
    "    data_onchain = pd.DataFrame(get_info(SY_contract, YT_contract, market_contract, i, 'arb'), index=[0])\n",
    "    data_df = pd.concat([data_df, data_onchain], ignore_index=True)"
   ]
  },
  {
   "cell_type": "code",
   "execution_count": 9,
   "metadata": {},
   "outputs": [],
   "source": [
    "IL_A1 = IL(data_df, 'A', False, GLP, ETH)\n",
    "IL_A2 = IL(data_df, 'A', True, GLP, ETH)\n",
    "IL_B1 = IL(data_df, 'B', False, GLP, ETH)\n",
    "IL_B2 = IL(data_df, 'B', True, GLP, ETH)\n",
    "IL_C1 = IL(data_df, 'C', False, GLP, ETH)\n",
    "IL_C2 = IL(data_df, 'C', True, GLP, ETH)"
   ]
  },
  {
   "cell_type": "code",
   "execution_count": 10,
   "metadata": {},
   "outputs": [],
   "source": [
    "write_array_to_csv(IL_A1, filepath + \"IL_A1.csv\", timestamp_start)\n",
    "write_array_to_csv(IL_A2, filepath + \"IL_A2.csv\", timestamp_start)\n",
    "write_array_to_csv(IL_B1, filepath + \"IL_B1.csv\", timestamp_start)\n",
    "write_array_to_csv(IL_B2, filepath + \"IL_B2.csv\", timestamp_start)\n",
    "write_array_to_csv(IL_C1, filepath + \"IL_C1.csv\", timestamp_start)\n",
    "write_array_to_csv(IL_C2, filepath + \"IL_C2.csv\", timestamp_start)"
   ]
  },
  {
   "cell_type": "code",
   "execution_count": 11,
   "metadata": {},
   "outputs": [
    {
     "name": "stdout",
     "output_type": "stream",
     "text": [
      "[1.0, 1.0071500274440424, 1.0152048469520505, 1.0208391064519255, 1.029284097887465, 1.0412082402741534, 1.0485580797339984, 1.0552938180887315, 1.0645027543253291, 1.0696107547424134, 1.07760488437983, 1.0980940306247182, 1.113251185251469, 1.1224001404101696, 1.1256573941164993, 1.1289216277240866, 1.1440093492463366, 1.1592152365887838, 1.166978013235567, 1.1834968606045304, 1.1883806936950199, 1.1899443253841786, 1.2023305985600543]\n",
      "[<NA>, 1.0, 1.008055033708723, 1.0136691973628307, 1.022067434380448, 1.0339939419581563, 1.0413174807903902, 1.0480402653223138, 1.0573010696946648, 1.062389132420629, 1.0703286925464846, 1.0894065606589727, 1.1037279869294108, 1.1126770314821905, 1.1156300169370914, 1.1189604394377475, 1.1340217598916407, 1.149267672270303, 1.1569977814883707, 1.1731249303479276, 1.1780918670097602, 1.1796490035523985, 1.1917778029109312]\n",
      "[<NA>, <NA>, 1.0, 1.0055973381408208, 1.0139408856716527, 1.0258582227128197, 1.0331454598339687, 1.039848004751214, 1.0491560990606628, 1.0542166187164956, 1.0620899909840733, 1.0796225580959222, 1.0930264819973128, 1.1017517928377674, 1.1043732111070546, 1.107777501192064, 1.1228067034174678, 1.1380896352942256, 1.1457805978281488, 1.1614734906901991, 1.1665266173086353, 1.168075489227092, 1.1799183697591968]\n",
      "[<NA>, <NA>, <NA>, 1.0, 1.0082991593853727, 1.0202284199463256, 1.0274952661056074, 1.0341930638503012, 1.043567350839625, 1.0486123629084032, 1.0564391394877637, 1.0725068403379736, 1.0850490465921703, 1.0935778776459943, 1.095884613918619, 1.0993716440605066, 1.1144066284573981, 1.1297614248703332, 1.1374325300501211, 1.1527393980698422, 1.1578886641594746, 1.159433665989169, 1.171026033789264]\n",
      "[<NA>, <NA>, <NA>, <NA>, 1.0, 1.01189832835785, 1.01912590993567, 1.02580159274755, 1.0352147507038063, 1.0402290119350461, 1.0479881682477503, 1.0625532481327662, 1.0742062658219529, 1.082519807416363, 1.0845101027689614, 1.0880795389176434, 1.1030947657673669, 1.1184849085059898, 1.1261168164081325, 1.1409995794763248, 1.1462303388209403, 1.147766613547555, 1.15907924065679]\n",
      "[<NA>, <NA>, <NA>, <NA>, <NA>, 1.0, 1.007183232476129, 1.013822160409463, 1.0232426887131778, 1.028215205688407, 1.035888729762404, 1.0490286528079356, 1.0598312942161696, 1.0679233942548532, 1.0696194801980203, 1.0732503903799246, 1.0881892492197516, 1.1035529106543462, 1.11112014606688, 1.1255610820865722, 1.1308500999560887, 1.1323737912370533, 1.1433891303426955]\n",
      "[<NA>, <NA>, <NA>, <NA>, <NA>, <NA>, 1.0, 1.0066315335644669, 1.0161024928474929, 1.0210602410224867, 1.028685520701642, 1.040471427285593, 1.0504778664834493, 1.0583861126777026, 1.0597976523469856, 1.0634955473530936, 1.078403899698025, 1.0938058403267015, 1.1013438454886024, 1.1154138544002985, 1.1207888380946118, 1.1223103495850453, 1.133082994478784]\n",
      "[<NA>, <NA>, <NA>, <NA>, <NA>, <NA>, <NA>, 1.0, 1.009517730511091, 1.0144639107102598, 1.0220468390754873, 1.0325630750077917, 1.041825469111825, 1.0495649720767488, 1.0507100018223126, 1.054471702199081, 1.0693533212242805, 1.0847943713358204, 1.092306248757927, 1.106031543478473, 1.111489935559047, 1.1130097555314462, 1.1235569716739584]\n",
      "[<NA>, <NA>, <NA>, <NA>, <NA>, <NA>, <NA>, <NA>, 1.0, 1.0049252284592491, 1.0124473786680366, 1.0217636824502172, 1.030315176154421, 1.037876994375698, 1.0387735067367005, 1.0425814624013596, 1.057388401265829, 1.0728139842400317, 1.080276225151188, 1.0936400728729547, 1.0991583545700723, 1.1006711157061835, 1.1109762886348782]\n",
      "[<NA>, <NA>, <NA>, <NA>, <NA>, <NA>, <NA>, <NA>, <NA>, 1.0, 1.0074926034894838, 1.0157276390502228, 1.023647123098093, 1.0310709416677342, 1.0317331948863933, 1.035578088070723, 1.0503396146824326, 1.065805529574981, 1.0732518433341434, 1.0863355822834093, 1.0919390067433732, 1.0934549802780476, 1.1035780634419847]\n",
      "[<NA>, <NA>, <NA>, <NA>, <NA>, <NA>, <NA>, <NA>, <NA>, <NA>, 1.0, 1.0070688474356329, 1.014300785321875, 1.0215617220952073, 1.0219756749619848, 1.025855658414914, 1.0405382446958416, 1.0560129579581727, 1.0634257423957933, 1.0761818708285262, 1.0818618808067932, 1.0833772165458588, 1.093283186071055]\n",
      "[<NA>, <NA>, <NA>, <NA>, <NA>, <NA>, <NA>, <NA>, <NA>, <NA>, <NA>, 1.0, 1.006513268052655, 1.0136117583124815, 1.0137637873180712, 1.0176762956740446, 1.0322782353511002, 1.047789945989654, 1.0551851597225703, 1.0676233143311744, 1.0733998220289733, 1.0749211185865433, 1.084618925047988]\n",
      "[<NA>, <NA>, <NA>, <NA>, <NA>, <NA>, <NA>, <NA>, <NA>, <NA>, <NA>, <NA>, 1.0, 1.0069593544745061, 1.0069053673441941, 1.0108469224318086, 1.0253645313197735, 1.040905698057104, 1.0482893109587508, 1.0604647593037682, 1.0663226255841605, 1.0678502410698716, 1.0773743240719866]\n",
      "[<NA>, <NA>, <NA>, <NA>, <NA>, <NA>, <NA>, <NA>, <NA>, <NA>, <NA>, <NA>, <NA>, 1.0, 0.9997693493812158, 1.0037253675601177, 1.0181247884038347, 1.033686936922244, 1.0410609963515451, 1.05298642449989, 1.0589219169431272, 1.060456516056878, 1.0698115295950392]\n",
      "[<NA>, <NA>, <NA>, <NA>, <NA>, <NA>, <NA>, <NA>, <NA>, <NA>, <NA>, <NA>, <NA>, <NA>, 1.0, 1.003914532563623, 1.0182156796380473, 1.0339018317870436, 1.0413322709815012, 1.053153176502727, 1.0591998881379594, 1.0607559007015321, 1.0700394097365709]\n",
      "[<NA>, <NA>, <NA>, <NA>, <NA>, <NA>, <NA>, <NA>, <NA>, <NA>, <NA>, <NA>, <NA>, <NA>, <NA>, 1.0, 1.0142179117333288, 1.0299899708651383, 1.0374241816158114, 1.0489571219983385, 1.0550846811054457, 1.0566376380444387, 1.065735147423043]\n",
      "[<NA>, <NA>, <NA>, <NA>, <NA>, <NA>, <NA>, <NA>, <NA>, <NA>, <NA>, <NA>, <NA>, <NA>, <NA>, <NA>, 1.0, 1.0156724631121314, 1.0229984469914717, 1.0338553762935971, 1.040026778134732, 1.04155817235505, 1.0502418118095658]\n",
      "[<NA>, <NA>, <NA>, <NA>, <NA>, <NA>, <NA>, <NA>, <NA>, <NA>, <NA>, <NA>, <NA>, <NA>, <NA>, <NA>, <NA>, 1.0, 1.0072736330495786, 1.017624060268864, 1.023826309735383, 1.0253488172938698, 1.0337097381353826]\n",
      "[<NA>, <NA>, <NA>, <NA>, <NA>, <NA>, <NA>, <NA>, <NA>, <NA>, <NA>, <NA>, <NA>, <NA>, <NA>, <NA>, <NA>, <NA>, 1.0, 1.0100026280854253, 1.016280996508571, 1.0178136311056025, 1.0259672708169427]\n",
      "[<NA>, <NA>, <NA>, <NA>, <NA>, <NA>, <NA>, <NA>, <NA>, <NA>, <NA>, <NA>, <NA>, <NA>, <NA>, <NA>, <NA>, <NA>, <NA>, 1.0, 1.0063295214930417, 1.0078707912697131, 1.0158369566109549]\n",
      "[<NA>, <NA>, <NA>, <NA>, <NA>, <NA>, <NA>, <NA>, <NA>, <NA>, <NA>, <NA>, <NA>, <NA>, <NA>, <NA>, <NA>, <NA>, <NA>, <NA>, 1.0, 1.001563360902254, 1.0093831527965607]\n",
      "[<NA>, <NA>, <NA>, <NA>, <NA>, <NA>, <NA>, <NA>, <NA>, <NA>, <NA>, <NA>, <NA>, <NA>, <NA>, <NA>, <NA>, <NA>, <NA>, <NA>, <NA>, 1.0, 1.007691298898164]\n",
      "[<NA>, <NA>, <NA>, <NA>, <NA>, <NA>, <NA>, <NA>, <NA>, <NA>, <NA>, <NA>, <NA>, <NA>, <NA>, <NA>, <NA>, <NA>, <NA>, <NA>, <NA>, <NA>, 1.0]\n"
     ]
    }
   ],
   "source": [
    "LP_profit = in_pool_value(data_df, GLP, ETH)"
   ]
  },
  {
   "cell_type": "code",
   "execution_count": null,
   "metadata": {},
   "outputs": [],
   "source": [
    "write_array_to_csv(LP_profit, \"data\\LP_profit\\GLP.csv\", timestamp_start)"
   ]
  }
 ],
 "metadata": {
  "kernelspec": {
   "display_name": "BC",
   "language": "python",
   "name": "python3"
  },
  "language_info": {
   "codemirror_mode": {
    "name": "ipython",
    "version": 3
   },
   "file_extension": ".py",
   "mimetype": "text/x-python",
   "name": "python",
   "nbconvert_exporter": "python",
   "pygments_lexer": "ipython3",
   "version": "3.10.4"
  },
  "orig_nbformat": 4
 },
 "nbformat": 4,
 "nbformat_minor": 2
}
