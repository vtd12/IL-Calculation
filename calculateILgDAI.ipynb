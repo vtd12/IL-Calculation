{
 "cells": [
  {
   "cell_type": "code",
   "execution_count": 1,
   "metadata": {},
   "outputs": [],
   "source": [
    "import time\n",
    "from web3 import Web3, constants\n",
    "from config import *\n",
    "import math\n",
    "from datetime import date\n",
    "from math_utils import *\n",
    "from network_utils import *"
   ]
  },
  {
   "cell_type": "code",
   "execution_count": 2,
   "metadata": {},
   "outputs": [],
   "source": [
    "filepath = 'data/gDAI/'"
   ]
  },
  {
   "cell_type": "code",
   "execution_count": 3,
   "metadata": {},
   "outputs": [],
   "source": [
    "import time\n",
    "import datetime\n",
    "\n",
    "timestamp = time.mktime(datetime.datetime.strptime(\"17/07/2023\", \"%d/%m/%Y\").timetuple())\n",
    "\n",
    "block_number = get_block_by_timestamp_arb(int(timestamp))"
   ]
  },
  {
   "cell_type": "code",
   "execution_count": 4,
   "metadata": {},
   "outputs": [
    {
     "data": {
      "text/plain": [
       "111858291"
      ]
     },
     "execution_count": 4,
     "metadata": {},
     "output_type": "execute_result"
    }
   ],
   "source": [
    "block_number"
   ]
  },
  {
   "cell_type": "code",
   "execution_count": 5,
   "metadata": {},
   "outputs": [
    {
     "data": {
      "text/plain": [
       "{'name': 'SY gDAI',\n",
       " 'SY': '0xAF699fb0D9F12Bf7B14474aE5c9Bea688888DF73',\n",
       " 'YT': '0x4a8E64c3A66ce0830e3bf2ea7863b013Aa592114',\n",
       " 'PT': '0x1684B747cd46858aE6312A7074353D2101154eF7',\n",
       " 'market': '0xa0192f6567f8f5DC38C53323235FD08b318D2dcA',\n",
       " 'expiry': 1711584000,\n",
       " 'scalarRoot': '12436730000000000000',\n",
       " 'initAnchor': '1187321000000000000'}"
      ]
     },
     "execution_count": 5,
     "metadata": {},
     "output_type": "execute_result"
    }
   ],
   "source": [
    "with open(r\"C:\\Users\\vgtgd\\Pendle\\PythonWeb3\\GDAI-28MARCH2024.json\", 'r') as f:\n",
    "  pool = json.load(f)\n",
    "\n",
    "pool"
   ]
  },
  {
   "cell_type": "code",
   "execution_count": 6,
   "metadata": {},
   "outputs": [],
   "source": [
    "YT_contract = get_contract_arb(address=pool[\"YT\"])"
   ]
  },
  {
   "cell_type": "code",
   "execution_count": 8,
   "metadata": {},
   "outputs": [
    {
     "name": "stdout",
     "output_type": "stream",
     "text": [
      "1.0752290088649117\n"
     ]
    }
   ],
   "source": [
    "YT_contract = get_contract_arb(address=pool[\"YT\"])\n",
    "index = to_normal_float(YT_contract.functions.pyIndexStored().call(block_identifier=block_number))\n",
    "print(index)\n",
    "\n",
    "time.sleep(5)\n",
    "market_contract = get_contract_arb(address=pool[\"market\"])\n",
    "\n",
    "time.sleep(5)\n",
    "SY_contract = get_contract_arb(address=pool[\"SY\"])"
   ]
  },
  {
   "cell_type": "code",
   "execution_count": 9,
   "metadata": {},
   "outputs": [
    {
     "name": "stdout",
     "output_type": "stream",
     "text": [
      "This SY has no reward.\n"
     ]
    },
    {
     "data": {
      "text/plain": [
       "{'date': '17-07-23',\n",
       " 'asset': 8361672.985946511,\n",
       " 'PT': 2644066.975935418,\n",
       " 'LP': 5274381.722587497,\n",
       " 'SY': 7776643.781935988,\n",
       " 'exchange_rate': 1.059800907310763,\n",
       " 'X_reward_index': 0,\n",
       " 'PENDLE_reward_index': 0.45736850135426693,\n",
       " 'average_boost_factor': 1.864890272013008,\n",
       " 'SY_index': 1.0752290088649117}"
      ]
     },
     "execution_count": 9,
     "metadata": {},
     "output_type": "execute_result"
    }
   ],
   "source": [
    "data_onchain = get_info(SY_contract, YT_contract, market_contract, timestamp, 'arb')\n",
    "data_onchain\n"
   ]
  },
  {
   "cell_type": "code",
   "execution_count": 10,
   "metadata": {},
   "outputs": [
    {
     "name": "stdout",
     "output_type": "stream",
     "text": [
      "This SY has no reward.\n",
      "This SY has no reward.\n",
      "This SY has no reward.\n",
      "This SY has no reward.\n",
      "This SY has no reward.\n",
      "This SY has no reward.\n",
      "This SY has no reward.\n",
      "This SY has no reward.\n",
      "This SY has no reward.\n",
      "This SY has no reward.\n",
      "This SY has no reward.\n",
      "This SY has no reward.\n",
      "This SY has no reward.\n",
      "This SY has no reward.\n",
      "This SY has no reward.\n",
      "This SY has no reward.\n",
      "This SY has no reward.\n",
      "This SY has no reward.\n",
      "This SY has no reward.\n",
      "This SY has no reward.\n",
      "This SY has no reward.\n",
      "This SY has no reward.\n",
      "This SY has no reward.\n"
     ]
    }
   ],
   "source": [
    "import pandas as pd\n",
    "\n",
    "data_df = pd.DataFrame()\n",
    "\n",
    "timestamp_start = int(time.mktime(datetime.datetime.strptime(\"24/03/2023\", \"%d/%m/%Y\").timetuple()))\n",
    "timestamp_end = int(time.mktime(datetime.datetime.strptime(\"24/06/2023\", \"%d/%m/%Y\").timetuple()))\n",
    "\n",
    "for i in range(timestamp_start, timestamp_end, DAY_DELTA * DAY):\n",
    "    data_onchain = pd.DataFrame(get_info(SY_contract, YT_contract, market_contract, i, 'arb'), index=[0])\n",
    "    data_df = pd.concat([data_df, data_onchain], ignore_index=True)"
   ]
  },
  {
   "cell_type": "code",
   "execution_count": 11,
   "metadata": {},
   "outputs": [
    {
     "name": "stdout",
     "output_type": "stream",
     "text": [
      "1.9951706634808315\n",
      "2.002933125432288\n",
      "1.9985019920899436\n",
      "2.0019857551178952\n",
      "2.003913142663984\n",
      "2.007898310462439\n",
      "2.010270404681737\n",
      "2.0102050648328333\n",
      "2.0135445781779335\n",
      "2.016589557400149\n",
      "2.0172520932314724\n",
      "2.02060647963514\n",
      "2.02490370727012\n",
      "2.02761662444384\n",
      "2.030687450869962\n",
      "2.0318713034608606\n",
      "2.034367393184538\n",
      "2.0353283763475316\n",
      "2.0351271051084265\n",
      "2.038723066792132\n",
      "2.0422834271590387\n",
      "2.0439059760108576\n",
      "2.0460962132585454\n"
     ]
    }
   ],
   "source": [
    "n = len(data_df)\n",
    "for i in range(n):\n",
    "    print(data_df.loc[i, \"PT\"]/(data_df.loc[i, \"exchange_rate\"]*data_df.loc[i, \"LP\"]) + data_df.loc[i, \"asset\"]/data_df.loc[i, \"LP\"])"
   ]
  },
  {
   "cell_type": "code",
   "execution_count": 12,
   "metadata": {},
   "outputs": [],
   "source": [
    "IL_A1 = IL(data_df, 'A', False, 1, 0)\n",
    "IL_A2 = IL(data_df, 'A', True, 1, 0)\n",
    "IL_B1 = IL(data_df, 'B', False, 1, 0)\n",
    "IL_B2 = IL(data_df, 'B', True, 1, 0)\n",
    "IL_C1 = IL(data_df, 'C', False, 1, 0)\n",
    "IL_C2 = IL(data_df, 'C', True, 1, 0)"
   ]
  },
  {
   "cell_type": "code",
   "execution_count": 13,
   "metadata": {},
   "outputs": [],
   "source": [
    "def write_array_to_csv(array, file_name):\n",
    "    date_column = [date.fromtimestamp(timestamp_start) + datetime.timedelta(days=DAY_DELTA*i) for i in range(len(array))]\n",
    "    for i in range(len(array)):\n",
    "        array[i].insert(0, date_column[i])\n",
    "\n",
    "    date_row = [''] + date_column\n",
    "    array.insert(0, date_row)\n",
    "\n",
    "    df = pd.DataFrame(array)\n",
    "    df.to_csv(file_name, header=False, index=False)"
   ]
  },
  {
   "cell_type": "code",
   "execution_count": 14,
   "metadata": {},
   "outputs": [],
   "source": [
    "write_array_to_csv(IL_A1, filepath + \"IL_A1.csv\")\n",
    "write_array_to_csv(IL_A2, filepath + \"IL_A2.csv\")\n",
    "write_array_to_csv(IL_B1, filepath + \"IL_B1.csv\")\n",
    "write_array_to_csv(IL_B2, filepath + \"IL_B2.csv\")\n",
    "write_array_to_csv(IL_C1, filepath + \"IL_C1.csv\")\n",
    "write_array_to_csv(IL_C2, filepath + \"IL_C2.csv\")"
   ]
  }
 ],
 "metadata": {
  "kernelspec": {
   "display_name": "BC",
   "language": "python",
   "name": "python3"
  },
  "language_info": {
   "codemirror_mode": {
    "name": "ipython",
    "version": 3
   },
   "file_extension": ".py",
   "mimetype": "text/x-python",
   "name": "python",
   "nbconvert_exporter": "python",
   "pygments_lexer": "ipython3",
   "version": "3.10.4"
  },
  "orig_nbformat": 4
 },
 "nbformat": 4,
 "nbformat_minor": 2
}
