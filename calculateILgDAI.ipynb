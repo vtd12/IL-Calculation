{
 "cells": [
  {
   "cell_type": "code",
   "execution_count": 1,
   "metadata": {},
   "outputs": [],
   "source": [
    "import time\n",
    "from web3 import Web3, constants\n",
    "from config import *\n",
    "import math\n",
    "from datetime import date\n",
    "from math_utils import *\n",
    "from network_utils import *"
   ]
  },
  {
   "cell_type": "code",
   "execution_count": 2,
   "metadata": {},
   "outputs": [],
   "source": [
    "filepath = 'data/gDAI/'"
   ]
  },
  {
   "cell_type": "code",
   "execution_count": 3,
   "metadata": {},
   "outputs": [],
   "source": [
    "import time\n",
    "import datetime\n",
    "\n",
    "timestamp = time.mktime(datetime.datetime.strptime(\"17/07/2023\", \"%d/%m/%Y\").timetuple())\n",
    "\n",
    "block_number = get_block_by_timestamp_arb(int(timestamp))"
   ]
  },
  {
   "cell_type": "code",
   "execution_count": 4,
   "metadata": {},
   "outputs": [
    {
     "data": {
      "text/plain": [
       "111858291"
      ]
     },
     "execution_count": 4,
     "metadata": {},
     "output_type": "execute_result"
    }
   ],
   "source": [
    "block_number"
   ]
  },
  {
   "cell_type": "code",
   "execution_count": 5,
   "metadata": {},
   "outputs": [
    {
     "data": {
      "text/plain": [
       "{'name': 'SY gDAI',\n",
       " 'SY': '0xAF699fb0D9F12Bf7B14474aE5c9Bea688888DF73',\n",
       " 'YT': '0x4a8E64c3A66ce0830e3bf2ea7863b013Aa592114',\n",
       " 'PT': '0x1684B747cd46858aE6312A7074353D2101154eF7',\n",
       " 'market': '0xa0192f6567f8f5DC38C53323235FD08b318D2dcA',\n",
       " 'expiry': 1711584000,\n",
       " 'scalarRoot': '12436730000000000000',\n",
       " 'initAnchor': '1187321000000000000'}"
      ]
     },
     "execution_count": 5,
     "metadata": {},
     "output_type": "execute_result"
    }
   ],
   "source": [
    "with open(\"GDAI-28MARCH2024.json\", 'r') as f:\n",
    "  pool = json.load(f)\n",
    "\n",
    "pool"
   ]
  },
  {
   "cell_type": "code",
   "execution_count": 6,
   "metadata": {},
   "outputs": [],
   "source": [
    "YT_contract = get_contract_arb(address=pool[\"YT\"])"
   ]
  },
  {
   "cell_type": "code",
   "execution_count": 8,
   "metadata": {},
   "outputs": [
    {
     "name": "stdout",
     "output_type": "stream",
     "text": [
      "1.0752290088649117\n"
     ]
    }
   ],
   "source": [
    "YT_contract = get_contract_arb(address=pool[\"YT\"])\n",
    "index = to_normal_float(YT_contract.functions.pyIndexStored().call(block_identifier=block_number))\n",
    "print(index)\n",
    "\n",
    "time.sleep(5)\n",
    "market_contract = get_contract_arb(address=pool[\"market\"])\n",
    "\n",
    "time.sleep(5)\n",
    "SY_contract = get_contract_arb(address=pool[\"SY\"])"
   ]
  },
  {
   "cell_type": "code",
   "execution_count": 9,
   "metadata": {},
   "outputs": [
    {
     "name": "stdout",
     "output_type": "stream",
     "text": [
      "This SY has no reward.\n"
     ]
    },
    {
     "data": {
      "text/plain": [
       "{'date': '17-07-23',\n",
       " 'asset': 8361672.985946511,\n",
       " 'PT': 2644066.975935418,\n",
       " 'LP': 5274381.722587497,\n",
       " 'SY': 7776643.781935988,\n",
       " 'exchange_rate': 1.059800907310763,\n",
       " 'X_reward_index': 0,\n",
       " 'PENDLE_reward_index': 0.45736850135426693,\n",
       " 'average_boost_factor': 1.864890272013008,\n",
       " 'SY_index': 1.0752290088649117}"
      ]
     },
     "execution_count": 9,
     "metadata": {},
     "output_type": "execute_result"
    }
   ],
   "source": [
    "data_onchain = get_info(SY_contract, YT_contract, market_contract, timestamp, 'arb')\n",
    "data_onchain\n"
   ]
  },
  {
   "cell_type": "code",
   "execution_count": 10,
   "metadata": {},
   "outputs": [
    {
     "name": "stdout",
     "output_type": "stream",
     "text": [
      "This SY has no reward.\n",
      "This SY has no reward.\n",
      "This SY has no reward.\n",
      "This SY has no reward.\n",
      "This SY has no reward.\n",
      "This SY has no reward.\n",
      "This SY has no reward.\n",
      "This SY has no reward.\n",
      "This SY has no reward.\n",
      "This SY has no reward.\n",
      "This SY has no reward.\n",
      "This SY has no reward.\n",
      "This SY has no reward.\n",
      "This SY has no reward.\n",
      "This SY has no reward.\n",
      "This SY has no reward.\n",
      "This SY has no reward.\n",
      "This SY has no reward.\n",
      "This SY has no reward.\n",
      "This SY has no reward.\n",
      "This SY has no reward.\n",
      "This SY has no reward.\n",
      "This SY has no reward.\n",
      "This SY has no reward.\n",
      "This SY has no reward.\n",
      "This SY has no reward.\n",
      "This SY has no reward.\n",
      "This SY has no reward.\n",
      "This SY has no reward.\n",
      "This SY has no reward.\n",
      "This SY has no reward.\n"
     ]
    }
   ],
   "source": [
    "import pandas as pd\n",
    "\n",
    "data_df = pd.DataFrame()\n",
    "\n",
    "timestamp_start = int(time.mktime(datetime.datetime.strptime(\"24/03/2023\", \"%d/%m/%Y\").timetuple()))\n",
    "timestamp_end = int(time.mktime(datetime.datetime.strptime(\"24/07/2023\", \"%d/%m/%Y\").timetuple()))\n",
    "\n",
    "for i in range(timestamp_start, timestamp_end, DAY_DELTA * DAY):\n",
    "    data_onchain = pd.DataFrame(get_info(SY_contract, YT_contract, market_contract, i, 'arb'), index=[0])\n",
    "    data_df = pd.concat([data_df, data_onchain], ignore_index=True)"
   ]
  },
  {
   "cell_type": "code",
   "execution_count": 11,
   "metadata": {},
   "outputs": [],
   "source": [
    "IL_A1 = IL(data_df, 'A', False, 1, 0)\n",
    "IL_A2 = IL(data_df, 'A', True, 1, 0)\n",
    "IL_B1 = IL(data_df, 'B', False, 1, 0)\n",
    "IL_B2 = IL(data_df, 'B', True, 1, 0)\n",
    "IL_C1 = IL(data_df, 'C', False, 1, 0)\n",
    "IL_C2 = IL(data_df, 'C', True, 1, 0)"
   ]
  },
  {
   "cell_type": "code",
   "execution_count": 12,
   "metadata": {},
   "outputs": [],
   "source": [
    "write_array_to_csv(IL_A1, filepath + \"IL_A1.csv\", timestamp_start)\n",
    "write_array_to_csv(IL_A2, filepath + \"IL_A2.csv\", timestamp_start)\n",
    "write_array_to_csv(IL_B1, filepath + \"IL_B1.csv\", timestamp_start)\n",
    "write_array_to_csv(IL_B2, filepath + \"IL_B2.csv\", timestamp_start)\n",
    "write_array_to_csv(IL_C1, filepath + \"IL_C1.csv\", timestamp_start)\n",
    "write_array_to_csv(IL_C2, filepath + \"IL_C2.csv\", timestamp_start)"
   ]
  }
 ],
 "metadata": {
  "kernelspec": {
   "display_name": "BC",
   "language": "python",
   "name": "python3"
  },
  "language_info": {
   "codemirror_mode": {
    "name": "ipython",
    "version": 3
   },
   "file_extension": ".py",
   "mimetype": "text/x-python",
   "name": "python",
   "nbconvert_exporter": "python",
   "pygments_lexer": "ipython3",
   "version": "3.10.4"
  },
  "orig_nbformat": 4
 },
 "nbformat": 4,
 "nbformat_minor": 2
}
