{
 "cells": [
  {
   "cell_type": "code",
   "execution_count": 1,
   "metadata": {},
   "outputs": [],
   "source": [
    "import time\n",
    "from web3 import Web3, constants\n",
    "import json\n",
    "import requests\n",
    "from config import *\n",
    "import math\n",
    "from datetime import date\n",
    "from decouple import config\n",
    "\n",
    "from network_utils import *\n",
    "from math_utils  import *"
   ]
  },
  {
   "cell_type": "code",
   "execution_count": 2,
   "metadata": {},
   "outputs": [],
   "source": [
    "INFURA_KEY = config('INFURA_KEY')\n",
    "infura_url = f\"https://arbitrum-mainnet.infura.io/v3/{INFURA_KEY}\"\n",
    "\n",
    "web3 = Web3(Web3.HTTPProvider(infura_url))"
   ]
  },
  {
   "cell_type": "code",
   "execution_count": 3,
   "metadata": {},
   "outputs": [],
   "source": [
    "import time\n",
    "import datetime\n",
    "\n",
    "timestamp = time.mktime(datetime.datetime.strptime(\"24/05/2023\", \"%d/%m/%Y\").timetuple())\n",
    "\n",
    "def get_block_by_timestamp(timestamp):\n",
    "    myApiKeyToken = \"17HC99ZNQ6NT9I35F695WYT31J2WUE7UF2\"\n",
    "    res = requests.get(f'https://api.arbiscan.io/api?module=block&action=getblocknobytime&timestamp={timestamp}&closest=before&apikey={myApiKeyToken}')\n",
    "    response = json.loads(res.text)['result']\n",
    "    return int(response)\n",
    "block_number = get_block_by_timestamp(int(timestamp))"
   ]
  },
  {
   "cell_type": "code",
   "execution_count": 4,
   "metadata": {},
   "outputs": [
    {
     "data": {
      "text/plain": [
       "{'name': 'SY GLP',\n",
       " 'SY': '0x2066a650AF4b6895f72E618587Aad5e8120B7790',\n",
       " 'YT': '0x56051f8e46b67b4d286454995dbc6f5f3c433e34',\n",
       " 'PT': '0x96015d0fb97139567a9ba675951816a0bb719e3c',\n",
       " 'market': '0x7D49E5Adc0EAAD9C027857767638613253eF125f',\n",
       " 'expiry': 1711584000,\n",
       " 'scalarRoot': '10484880000000000000',\n",
       " 'initAnchor': '1285295000000000000'}"
      ]
     },
     "execution_count": 4,
     "metadata": {},
     "output_type": "execute_result"
    }
   ],
   "source": [
    "with open(r\"C:\\Users\\vgtgd\\Pendle\\PythonWeb3\\GLP-28MARCH2024.json\", 'r') as f:\n",
    "  GLP = json.load(f)\n",
    "\n",
    "GLP"
   ]
  },
  {
   "cell_type": "code",
   "execution_count": 5,
   "metadata": {},
   "outputs": [],
   "source": [
    "YT_contract = get_contract_arb(Web3.to_checksum_address(GLP[\"YT\"]))"
   ]
  },
  {
   "cell_type": "code",
   "execution_count": 6,
   "metadata": {},
   "outputs": [
    {
     "data": {
      "text/plain": [
       "Decimal('0.5')"
      ]
     },
     "execution_count": 6,
     "metadata": {},
     "output_type": "execute_result"
    }
   ],
   "source": [
    "index = web3.from_wei(YT_contract.functions.pyIndexStored().call(block_identifier=block_number), 'ether')\n",
    "index/2"
   ]
  },
  {
   "cell_type": "code",
   "execution_count": 8,
   "metadata": {},
   "outputs": [],
   "source": [
    "# YT_abi = requests.get('https://api.arbiscan.io/api?module=contract&action=getabi&address=0x23231848ec8acD3a108C6a61049FbC25A697b594&to_normal_float=raw').text\n",
    "# YT_address = GLP[\"YT\"]\n",
    "\n",
    "YT_contract = get_contract_arb(Web3.to_checksum_address(GLP[\"YT\"]))\n",
    "index = web3.from_wei(YT_contract.functions.pyIndexStored().call(block_identifier=block_number), 'ether')\n",
    "\n",
    "time.sleep(10)\n",
    "market_contract = get_contract_arb(address=GLP[\"market\"])\n",
    "\n",
    "time.sleep(10)\n",
    "SY_contract = get_contract_arb(address=GLP[\"SY\"])"
   ]
  },
  {
   "cell_type": "code",
   "execution_count": 10,
   "metadata": {},
   "outputs": [
    {
     "data": {
      "text/plain": [
       "{'date': '24-05-23',\n",
       " 'asset': 7723058.486487405,\n",
       " 'PT': 3434978.8982548523,\n",
       " 'LP': 5707057.177257043,\n",
       " 'exchange_rate': 1.1516421065224196,\n",
       " 'X_reward_index': 2.91574597944e-05,\n",
       " 'PENDLE_reward_index': 0.5049281080968737,\n",
       " 'ETH_price': 1893.51327570915,\n",
       " 'average_boost_factor': 1.1763815114857266}"
      ]
     },
     "execution_count": 10,
     "metadata": {},
     "output_type": "execute_result"
    }
   ],
   "source": [
    "def get_info(SY_contract, YT_contract, market_contract, timestamp):\n",
    "    date = datetime.datetime.fromtimestamp(timestamp).strftime('%d-%m-%y')\n",
    "    block_number = int(get_block_by_timestamp(int(timestamp)))\n",
    "    PENDLE_reward_index = to_normal_float(market_contract.functions.rewardState(PENDLE_ADDRESS_ARB).call(block_identifier=block_number)[0])\n",
    "\n",
    "    X_reward_index = to_normal_float(\n",
    "        SY_contract.functions.rewardIndexesCurrent().call(block_identifier=block_number)[0]\n",
    "    )\n",
    "\n",
    "    SY_index = to_normal_float(\n",
    "        YT_contract.functions.pyIndexStored().call(block_identifier=block_number)\n",
    "    )\n",
    "\n",
    "    market_state_values = market_contract.functions.readState(constants.ADDRESS_ZERO).call(block_identifier=block_number)\n",
    "\n",
    "    market_state_keys = [\n",
    "        \"totalPt\",\n",
    "        \"totalSy\",\n",
    "        \"totalLp\",\n",
    "        \"treasury\",\n",
    "        \"scalarRoot\",\n",
    "        \"expiry\",\n",
    "        \"lnFeeRateRoot\",\n",
    "        \"reserveFeePercent\",\n",
    "        \"lastLnImpliedRate\"\n",
    "    ]\n",
    "    #     struct MarketState {\n",
    "    #     int256 totalPt;\n",
    "    #     int256 totalSy;\n",
    "    #     int256 totalLp;\n",
    "    #     address treasury;\n",
    "    #     /// immutable variables ///\n",
    "    #     int256 scalarRoot;\n",
    "    #     uint256 expiry;\n",
    "    #     /// fee data ///\n",
    "    #     uint256 lnFeeRateRoot;\n",
    "    #     uint256 reserveFeePercent; // base 100\n",
    "    #     /// last trade data ///\n",
    "    #     uint256 lastLnImpliedRate;\n",
    "    # }\n",
    "    market_state = {market_state_keys[i]: market_state_values[i] for i in range(len(market_state_keys))}\n",
    "    market_precompute = get_market_precompute(market_state, SY_index, timestamp)\n",
    "\n",
    "    # time_to_expiry = market_state[\"expiry\"] - timestamp\n",
    "\n",
    "    data_onchain = {}\n",
    "    data_onchain[\"date\"] = date\n",
    "    data_onchain[\"asset\"] = market_precompute[\"total_asset\"]\n",
    "    data_onchain[\"PT\"] = to_normal_float(market_state[\"totalPt\"])\n",
    "    data_onchain[\"LP\"] = to_normal_float(market_state[\"totalLp\"])\n",
    "    data_onchain[\"exchange_rate\"] = get_exchange_rate(data_onchain[\"PT\"], data_onchain[\"asset\"], market_precompute[\"rate_scalar\"], market_precompute[\"rate_anchor\"])\n",
    "    data_onchain[\"X_reward_index\"] = X_reward_index\n",
    "    data_onchain[\"PENDLE_reward_index\"] = PENDLE_reward_index\n",
    "    data_onchain[\"average_boost_factor\"] = average_boost_factor(market_contract, block_number)\n",
    "    \n",
    "    return data_onchain\n",
    "\n",
    "data_onchain = get_info(SY_contract, YT_contract, market_contract, timestamp)\n",
    "data_onchain\n"
   ]
  },
  {
   "cell_type": "code",
   "execution_count": 9,
   "metadata": {},
   "outputs": [],
   "source": [
    "import pandas as pd\n",
    "\n",
    "data_df = pd.DataFrame()\n",
    "\n",
    "timestamp_start = int(time.mktime(datetime.datetime.strptime(\"24/02/2023\", \"%d/%m/%Y\").timetuple()))\n",
    "timestamp_end = int(time.mktime(datetime.datetime.strptime(\"08/06/2023\", \"%d/%m/%Y\").timetuple()))\n",
    "\n",
    "for i in range(timestamp_start, timestamp_end, DAY_DELTA * DAY):\n",
    "    data_onchain = pd.DataFrame(get_info(SY_contract, YT_contract, market_contract, i), index=[0])\n",
    "    data_df = pd.concat([data_df, data_onchain], ignore_index=True)"
   ]
  },
  {
   "cell_type": "code",
   "execution_count": 10,
   "metadata": {},
   "outputs": [],
   "source": [
    "def IL(data_df, case, PENDLE_incentive = False):\n",
    "    n = len(data_df)\n",
    "    IL = [[0 for _ in range(n)] for _ in range(n)]\n",
    "\n",
    "# Compare from timestamp i to timestamp j\n",
    "    for i in range(n):\n",
    "        for j in range(i, n):             \n",
    "            BOOST_FACTOR = data_df.loc[j, \"average_boost_factor\"]\n",
    "\n",
    "            WETH_reward_value_each_SY = (data_df.loc[j, \"X_reward_index\"] - data_df.loc[i, \"X_reward_index\"])*data_df.loc[j, \"ETH_price\"]\n",
    "            \n",
    "            # At timestamp j\n",
    "            PT_in_pool_value = data_df.loc[j, \"PT\"]/(data_df.loc[j, \"exchange_rate\"]*data_df.loc[j, \"LP\"]) # value unit is SY\n",
    "            SY_in_pool = data_df.loc[j, \"asset\"]/data_df.loc[j, \"LP\"]\n",
    "            WETH_in_pool_reward_value = SY_in_pool*WETH_reward_value_each_SY*BOOST_FACTOR # Assume receive reward based on the original SY amount\n",
    "            PENDLE_reward_value = (data_df.loc[j, \"PENDLE_reward_index\"] - data_df.loc[i, \"PENDLE_reward_index\"])*BOOST_FACTOR*PENDLEGLP\n",
    "\n",
    "            in_pool_value = (PT_in_pool_value + SY_in_pool + WETH_in_pool_reward_value) + (PENDLE_reward_value if PENDLE_incentive else 0)\n",
    "            \n",
    "            if case == 'A':  # User holds PT + SY\n",
    "                PT_out_pool_value = data_df.loc[i, \"PT\"]/(data_df.loc[j, \"exchange_rate\"]*data_df.loc[i, \"LP\"])\n",
    "                SY_out_pool = data_df.loc[i, \"asset\"]/data_df.loc[i, \"LP\"]\n",
    "                WETH_out_pool_reward_value = SY_out_pool*WETH_reward_value_each_SY\n",
    "                out_pool_value =  PT_out_pool_value + SY_out_pool + WETH_out_pool_reward_value\n",
    "            \n",
    "            elif case == 'B': # User holds SY only\n",
    "                SY_out_pool = (data_df.loc[i, \"PT\"]/data_df.loc[i, \"exchange_rate\"] + data_df.loc[i, \"asset\"])/data_df.loc[i, \"LP\"]\n",
    "                WETH_out_pool_reward_value = SY_out_pool*WETH_reward_value_each_SY\n",
    "                out_pool_value =  SY_out_pool + WETH_out_pool_reward_value\n",
    "            \n",
    "            elif case =='C': \n",
    "                YT_holding_amount = data_df.loc[i, \"PT\"]/data_df.loc[i, \"LP\"]\n",
    "                YT_value = YT_holding_amount*(1-1/data_df.loc[j, \"exchange_rate\"])\n",
    "                WETH_in_pool_reward_value = WETH_in_pool_reward_value + YT_holding_amount*YT_REWARD_FACTOR*WETH_reward_value_each_SY\n",
    "                in_pool_value = (PT_in_pool_value + SY_in_pool + WETH_in_pool_reward_value + YT_value) + (PENDLE_reward_value if PENDLE_incentive else 0)\n",
    "\n",
    "                SY_out_pool = (data_df.loc[i, \"PT\"] + data_df.loc[i, \"asset\"])/data_df.loc[i, \"LP\"]\n",
    "                WETH_out_pool_reward_value = SY_out_pool*WETH_reward_value_each_SY\n",
    "                out_pool_value = SY_out_pool + WETH_out_pool_reward_value\n",
    "\n",
    "            IL[i][j] = in_pool_value/out_pool_value\n",
    "\n",
    "    return IL\n"
   ]
  },
  {
   "cell_type": "code",
   "execution_count": 11,
   "metadata": {},
   "outputs": [],
   "source": [
    "IL_A1 = IL(data_df, 'A', False)\n",
    "IL_A2 = IL(data_df, 'A', True)\n",
    "IL_B1 = IL(data_df, 'B', False)\n",
    "IL_B2 = IL(data_df, 'B', True)\n",
    "IL_C1 = IL(data_df, 'C', False)\n",
    "IL_C2 = IL(data_df, 'C', True)"
   ]
  },
  {
   "cell_type": "code",
   "execution_count": 12,
   "metadata": {},
   "outputs": [],
   "source": [
    "def write_array_to_csv(array, file_name):\n",
    "    date_column = [date.fromtimestamp(timestamp_start) + datetime.timedelta(days=DAY_DELTA*i) for i in range(len(array))]\n",
    "    for i in range(len(array)):\n",
    "        array[i].insert(0, date_column[i])\n",
    "\n",
    "    date_row = [''] + date_column\n",
    "    array.insert(0, date_row)\n",
    "\n",
    "    df = pd.DataFrame(array)\n",
    "    df.to_csv(file_name, header=False, index=False)"
   ]
  },
  {
   "cell_type": "code",
   "execution_count": 13,
   "metadata": {},
   "outputs": [],
   "source": [
    "write_array_to_csv(IL_A1, \"data/IL_A1.csv\")\n",
    "write_array_to_csv(IL_A2, \"data/IL_A2.csv\")\n",
    "write_array_to_csv(IL_B1, \"data/IL_B1.csv\")\n",
    "write_array_to_csv(IL_B2, \"data/IL_B2.csv\")\n",
    "write_array_to_csv(IL_C1, \"data/IL_C1.csv\")\n",
    "write_array_to_csv(IL_C2, \"data/IL_C2.csv\")"
   ]
  },
  {
   "cell_type": "code",
   "execution_count": 14,
   "metadata": {},
   "outputs": [
    {
     "data": {
      "text/plain": [
       "0.0028218324686607376"
      ]
     },
     "execution_count": 14,
     "metadata": {},
     "output_type": "execute_result"
    }
   ],
   "source": [
    "SYamount =  106.009646748417638518\n",
    "block_number_start = 70169650\n",
    "block_number_end = 102482129\n",
    "\n",
    "X_reward_index_start = web3.from_wei(\n",
    "        SY_contract.functions.rewardIndexesCurrent().call(block_identifier=block_number_start)[0],\n",
    "        'ether'\n",
    "    )\n",
    "\n",
    "X_reward_index_end = web3.from_wei(\n",
    "        SY_contract.functions.rewardIndexesCurrent().call(block_identifier=block_number_end)[0],\n",
    "        'ether'\n",
    ")\n",
    "# print(X_reward_index_end, X_reward_index_start)\n",
    "WETH_reward = SYamount*float(X_reward_index_end - X_reward_index_start)\n",
    "WETH_reward"
   ]
  }
 ],
 "metadata": {
  "kernelspec": {
   "display_name": "BC",
   "language": "python",
   "name": "python3"
  },
  "language_info": {
   "codemirror_mode": {
    "name": "ipython",
    "version": 3
   },
   "file_extension": ".py",
   "mimetype": "text/x-python",
   "name": "python",
   "nbconvert_exporter": "python",
   "pygments_lexer": "ipython3",
   "version": "3.10.4"
  },
  "orig_nbformat": 4
 },
 "nbformat": 4,
 "nbformat_minor": 2
}
