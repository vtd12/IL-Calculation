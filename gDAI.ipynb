{
 "cells": [
  {
   "cell_type": "code",
   "execution_count": 1,
   "metadata": {},
   "outputs": [],
   "source": [
    "import time\n",
    "from web3 import Web3, constants\n",
    "from config import *\n",
    "import math\n",
    "from datetime import date\n",
    "from math_utils import *\n",
    "from network_utils import *"
   ]
  },
  {
   "cell_type": "code",
   "execution_count": 2,
   "metadata": {},
   "outputs": [],
   "source": [
    "filepath = 'data/gDAI/'"
   ]
  },
  {
   "cell_type": "code",
   "execution_count": 3,
   "metadata": {},
   "outputs": [],
   "source": [
    "import time\n",
    "import datetime\n",
    "\n",
    "timestamp = time.mktime(datetime.datetime.strptime(\"17/07/2023\", \"%d/%m/%Y\").timetuple())\n",
    "\n",
    "block_number = get_block_by_timestamp_arb(int(timestamp))"
   ]
  },
  {
   "cell_type": "code",
   "execution_count": 4,
   "metadata": {},
   "outputs": [
    {
     "data": {
      "text/plain": [
       "111858291"
      ]
     },
     "execution_count": 4,
     "metadata": {},
     "output_type": "execute_result"
    }
   ],
   "source": [
    "block_number"
   ]
  },
  {
   "cell_type": "code",
   "execution_count": 5,
   "metadata": {},
   "outputs": [
    {
     "data": {
      "text/plain": [
       "{'name': 'SY gDAI',\n",
       " 'SY': '0xAF699fb0D9F12Bf7B14474aE5c9Bea688888DF73',\n",
       " 'YT': '0x4a8E64c3A66ce0830e3bf2ea7863b013Aa592114',\n",
       " 'PT': '0x1684B747cd46858aE6312A7074353D2101154eF7',\n",
       " 'market': '0xa0192f6567f8f5DC38C53323235FD08b318D2dcA',\n",
       " 'expiry': 1711584000,\n",
       " 'scalarRoot': '12436730000000000000',\n",
       " 'initAnchor': '1187321000000000000'}"
      ]
     },
     "execution_count": 5,
     "metadata": {},
     "output_type": "execute_result"
    }
   ],
   "source": [
    "with open(\"GDAI-28MARCH2024.json\", 'r') as f:\n",
    "  pool = json.load(f)\n",
    "\n",
    "pool"
   ]
  },
  {
   "cell_type": "code",
   "execution_count": 6,
   "metadata": {},
   "outputs": [],
   "source": [
    "YT_contract = get_contract_arb(address=pool[\"YT\"])"
   ]
  },
  {
   "cell_type": "code",
   "execution_count": 9,
   "metadata": {},
   "outputs": [
    {
     "name": "stdout",
     "output_type": "stream",
     "text": [
      "1.0752290088649117\n"
     ]
    }
   ],
   "source": [
    "YT_contract = get_contract_arb(address=pool[\"YT\"])\n",
    "index = to_normal_float(YT_contract.functions.pyIndexStored().call(block_identifier=block_number))\n",
    "print(index)\n",
    "\n",
    "market_contract = get_contract_arb(address=pool[\"market\"])\n",
    "\n",
    "SY_contract = get_contract_arb(address=pool[\"SY\"])"
   ]
  },
  {
   "cell_type": "code",
   "execution_count": 10,
   "metadata": {},
   "outputs": [
    {
     "name": "stdout",
     "output_type": "stream",
     "text": [
      "This SY has no reward.\n"
     ]
    },
    {
     "data": {
      "text/plain": [
       "{'date': '17-07-23',\n",
       " 'asset': 8361672.985946511,\n",
       " 'PT': 2644066.975935418,\n",
       " 'LP': 5274381.722587497,\n",
       " 'SY': 7776643.781935988,\n",
       " 'exchange_rate': 1.059800907310763,\n",
       " 'X_reward_index': 0,\n",
       " 'PENDLE_reward_index': 0.45736850135426693,\n",
       " 'average_boost_factor': 1.864890272013008,\n",
       " 'SY_index': 1.0752290088649117}"
      ]
     },
     "execution_count": 10,
     "metadata": {},
     "output_type": "execute_result"
    }
   ],
   "source": [
    "data_onchain = get_info(SY_contract, YT_contract, market_contract, timestamp, 'arb')\n",
    "data_onchain\n"
   ]
  },
  {
   "cell_type": "code",
   "execution_count": 11,
   "metadata": {},
   "outputs": [
    {
     "name": "stdout",
     "output_type": "stream",
     "text": [
      "This SY has no reward.\n",
      "This SY has no reward.\n",
      "This SY has no reward.\n",
      "This SY has no reward.\n",
      "This SY has no reward.\n",
      "This SY has no reward.\n",
      "This SY has no reward.\n",
      "This SY has no reward.\n",
      "This SY has no reward.\n",
      "This SY has no reward.\n",
      "This SY has no reward.\n",
      "This SY has no reward.\n",
      "This SY has no reward.\n",
      "This SY has no reward.\n",
      "This SY has no reward.\n",
      "This SY has no reward.\n",
      "This SY has no reward.\n",
      "This SY has no reward.\n",
      "This SY has no reward.\n",
      "This SY has no reward.\n",
      "This SY has no reward.\n",
      "This SY has no reward.\n",
      "This SY has no reward.\n"
     ]
    }
   ],
   "source": [
    "import pandas as pd\n",
    "\n",
    "data_df = pd.DataFrame()\n",
    "\n",
    "timestamp_start = int(time.mktime(datetime.datetime.strptime(\"24/04/2023\", \"%d/%m/%Y\").timetuple()))\n",
    "timestamp_end = int(time.mktime(datetime.datetime.strptime(\"24/07/2023\", \"%d/%m/%Y\").timetuple()))\n",
    "\n",
    "for i in range(timestamp_start, timestamp_end, DAY_DELTA * DAY):\n",
    "    data_onchain = pd.DataFrame(get_info(SY_contract, YT_contract, market_contract, i, 'arb'), index=[0])\n",
    "    data_df = pd.concat([data_df, data_onchain], ignore_index=True)"
   ]
  },
  {
   "cell_type": "code",
   "execution_count": 12,
   "metadata": {},
   "outputs": [],
   "source": [
    "IL_A1 = IL(data_df, 'A', False, 1, 0)\n",
    "IL_A2 = IL(data_df, 'A', True, 1, 0)\n",
    "IL_B1 = IL(data_df, 'B', False, 1, 0)\n",
    "IL_B2 = IL(data_df, 'B', True, 1, 0)\n",
    "IL_C1 = IL(data_df, 'C', False, 1, 0)\n",
    "IL_C2 = IL(data_df, 'C', True, 1, 0)"
   ]
  },
  {
   "cell_type": "code",
   "execution_count": 13,
   "metadata": {},
   "outputs": [],
   "source": [
    "write_array_to_csv(IL_A1, filepath + \"IL_A1.csv\", timestamp_start)\n",
    "write_array_to_csv(IL_A2, filepath + \"IL_A2.csv\", timestamp_start)\n",
    "write_array_to_csv(IL_B1, filepath + \"IL_B1.csv\", timestamp_start)\n",
    "write_array_to_csv(IL_B2, filepath + \"IL_B2.csv\", timestamp_start)\n",
    "write_array_to_csv(IL_C1, filepath + \"IL_C1.csv\", timestamp_start)\n",
    "write_array_to_csv(IL_C2, filepath + \"IL_C2.csv\", timestamp_start)"
   ]
  },
  {
   "cell_type": "code",
   "execution_count": 41,
   "metadata": {},
   "outputs": [
    {
     "name": "stdout",
     "output_type": "stream",
     "text": [
      "[1.0, 1.0048684755782977, 1.0083065341310053, 1.0123917897052321, 1.0169561544826504, 1.021246851777343, 1.0251469829010393, 1.0281658133037737, 1.0313609982298084, 1.0352557195803684, 1.0370068983627285, 1.0398499457415573, 1.0491872765345502, 1.0518634833970466, 1.0557154115757175, 1.0620861784067548, 1.0639592795060795, 1.0644500323606971, 1.069063155300349, 1.0758353329357426, 1.0773202263395463, 1.0797809374196095, 1.0802701586042458]\n",
      "[<NA>, 1.0, 1.003424877481168, 1.007501865635228, 1.0120827955405538, 1.016385005525647, 1.0202954341408987, 1.023298210125501, 1.0264849643379879, 1.0302850871279108, 1.0320698869721698, 1.03496640154186, 1.043527452379369, 1.0461829631011546, 1.0498155804118914, 1.0557243418299618, 1.0575975332867034, 1.0582295948333673, 1.0625668768243466, 1.0688111175439794, 1.070230028769885, 1.0727301082622531, 1.0734067924262898]\n",
      "[<NA>, <NA>, 1.0, 1.0040730905933395, 1.0086720330360595, 1.0129876567282392, 1.016910133073492, 1.019901407738871, 1.0230834105515185, 1.026804645091028, 1.0286199915480394, 1.0315651305963118, 1.0394607168459962, 1.0421004282738124, 1.045546013242833, 1.05105937246496, 1.0529341412105202, 1.053689092303883, 1.0577909466515103, 1.063582952106781, 1.0649458533987581, 1.067482029539469, 1.068321611972152]\n",
      "[<NA>, <NA>, <NA>, 1.0, 1.0046119860895737, 1.0089365695094017, 1.012867053974369, 1.0158449848029452, 1.0190198283966687, 1.0226637472079856, 1.024506276393644, 1.0274946383357475, 1.0347579031932232, 1.0373805274552725, 1.0406473574733441, 1.0457843118858623, 1.047658977369081, 1.0485288252136447, 1.0524058701811698, 1.0577678030619049, 1.0590768931228733, 1.06164486003457, 1.062636882100536]\n",
      "[<NA>, <NA>, <NA>, <NA>, 1.0, 1.0043317477136977, 1.0082686055155836, 1.0112315276772657, 1.0143975923154673, 1.0179608190569083, 1.0198302790739457, 1.0228614363853659, 1.029475149214922, 1.032079102960363, 1.0351617479608717, 1.0399116659402072, 1.0417853623050928, 1.0427722291348758, 1.0464177422741558, 1.0513376888632224, 1.0525911830395387, 1.0551904558277323, 1.0563378078587928]\n",
      "[<NA>, <NA>, <NA>, <NA>, <NA>, 1.0, 1.00394253016405, 1.0068913525301508, 1.010049082939233, 1.013537253942372, 1.0154315781965775, 1.0185022432199728, 1.0245131134468066, 1.0270995929001996, 1.0300112244574764, 1.034401888810622, 1.0362745727238383, 1.0373699115831778, 1.0408004642890214, 1.0453101824669175, 1.0465120369853425, 1.049140187488135, 1.0504315341914705]\n",
      "[<NA>, <NA>, <NA>, <NA>, <NA>, <NA>, 1.0, 1.0029359016572787, 1.0060863054205973, 1.009503016376087, 1.0114216833796887, 1.0145310408326298, 1.0199631168195162, 1.0225333487316, 1.0252810537618502, 1.0293269732424377, 1.031199094073577, 1.0323990558351785, 1.0356235058667063, 1.0397394523919927, 1.0408918780825382, 1.043548394626279, 1.0449785906302367]\n",
      "[<NA>, <NA>, <NA>, <NA>, <NA>, <NA>, <NA>, 1.0, 1.0031461033393374, 1.0064968335125926, 1.0084406898156193, 1.0115901377897722, 1.0164682235242688, 1.0190250321043375, 1.0216168998876598, 1.0253335616806931, 1.0272067866164272, 1.0285088080304188, 1.0315371233248052, 1.0352765430692341, 1.0363822641773175, 1.0390685035310359, 1.0406340041784523]\n",
      "[<NA>, <NA>, <NA>, <NA>, <NA>, <NA>, <NA>, <NA>, 1.0, 1.0032902028837025, 1.0052554719452211, 1.008438970546041, 1.012821081785026, 1.0153645906289521, 1.017816299716449, 1.0212377550380785, 1.023110978461322, 1.0245032144390378, 1.0273552507289345, 1.0307573519602256, 1.0318208944201248, 1.0345321939693843, 1.0362173802035348]\n",
      "[<NA>, <NA>, <NA>, <NA>, <NA>, <NA>, <NA>, <NA>, <NA>, 1.0, 1.00199406753189, 1.0052234074945694, 1.0089777939180933, 1.0115063817013215, 1.0137816565196116, 1.0168301277035399, 1.0187048252397781, 1.0202129654216407, 1.0228429161361385, 1.0258184261415055, 1.0268291300362153, 1.0295744576360988, 1.0314132837708054]\n",
      "[<NA>, <NA>, <NA>, <NA>, <NA>, <NA>, <NA>, <NA>, <NA>, <NA>, 1.0, 1.0032659642784774, 1.0065426592756772, 1.0090611034838315, 1.0112027196042546, 1.013967760103664, 1.0158445146239725, 1.0174419495992761, 1.0199035420273255, 1.022554631544269, 1.0235254708150807, 1.0262981575327672, 1.0282552711494073]\n",
      "[<NA>, <NA>, <NA>, <NA>, <NA>, <NA>, <NA>, <NA>, <NA>, <NA>, <NA>, 1.0, 1.0028752703555597, 1.0053811800216967, 1.0074084711728002, 1.0099339883679586, 1.0118093748277888, 1.0134782288682669, 1.0157962025521758, 1.0181739703477903, 1.0191101675584062, 1.0219009972017827, 1.023952978955768]\n",
      "[<NA>, <NA>, <NA>, <NA>, <NA>, <NA>, <NA>, <NA>, <NA>, <NA>, <NA>, <NA>, 1.0, 1.0024962762144982, 1.0044400809080694, 1.0067910467981303, 1.008665045108669, 1.0103854363117009, 1.0125985796824315, 1.0147772717281662, 1.0156881037129715, 1.0184915280579485, 1.0206120028509726]\n",
      "[<NA>, <NA>, <NA>, <NA>, <NA>, <NA>, <NA>, <NA>, <NA>, <NA>, <NA>, <NA>, <NA>, 1.0, 1.001877033149696, 1.0040887409313939, 1.0059612569453764, 1.0077222770134675, 1.0098516242440836, 1.0118715939640646, 1.012762074421532, 1.0155749462569783, 1.0177494504524123]\n",
      "[<NA>, <NA>, <NA>, <NA>, <NA>, <NA>, <NA>, <NA>, <NA>, <NA>, <NA>, <NA>, <NA>, <NA>, 1.0, 1.002116074167123, 1.0039873473669418, 1.00577597610985, 1.0078476803690957, 1.0097587106020212, 1.010635145936386, 1.0134541453657206, 1.0156653847025987]\n",
      "[<NA>, <NA>, <NA>, <NA>, <NA>, <NA>, <NA>, <NA>, <NA>, <NA>, <NA>, <NA>, <NA>, <NA>, <NA>, 1.0, 1.0018697699328556, 1.0036858449391206, 1.0056994487855935, 1.007500949978349, 1.0083631777445103, 1.0111879364466798, 1.0134357179625757]\n",
      "[<NA>, <NA>, <NA>, <NA>, <NA>, <NA>, <NA>, <NA>, <NA>, <NA>, <NA>, <NA>, <NA>, <NA>, <NA>, <NA>, 1.0, 1.0018493659940697, 1.0037960812063789, 1.0054702657194334, 1.0063163631815941, 1.0091496028188296, 1.0114416041142364]\n",
      "[<NA>, <NA>, <NA>, <NA>, <NA>, <NA>, <NA>, <NA>, <NA>, <NA>, <NA>, <NA>, <NA>, <NA>, <NA>, <NA>, <NA>, 1.0, 1.001892705687303, 1.0034648727100526, 1.004297800139096, 1.0071366975069014, 1.0094630212309876]\n",
      "[<NA>, <NA>, <NA>, <NA>, <NA>, <NA>, <NA>, <NA>, <NA>, <NA>, <NA>, <NA>, <NA>, <NA>, <NA>, <NA>, <NA>, <NA>, 1.0, 1.001486639342655, 1.0023083331342124, 1.0051510802076693, 1.007505306685829]\n",
      "[<NA>, <NA>, <NA>, <NA>, <NA>, <NA>, <NA>, <NA>, <NA>, <NA>, <NA>, <NA>, <NA>, <NA>, <NA>, <NA>, <NA>, <NA>, <NA>, 1.0, 1.000813047996566, 1.003658888765555, 1.0060347742114755]\n",
      "[<NA>, <NA>, <NA>, <NA>, <NA>, <NA>, <NA>, <NA>, <NA>, <NA>, <NA>, <NA>, <NA>, <NA>, <NA>, <NA>, <NA>, <NA>, <NA>, <NA>, 1.0, 1.0028504275915149, 1.0052480581522731]\n",
      "[<NA>, <NA>, <NA>, <NA>, <NA>, <NA>, <NA>, <NA>, <NA>, <NA>, <NA>, <NA>, <NA>, <NA>, <NA>, <NA>, <NA>, <NA>, <NA>, <NA>, <NA>, 1.0, 1.002447403951191]\n",
      "[<NA>, <NA>, <NA>, <NA>, <NA>, <NA>, <NA>, <NA>, <NA>, <NA>, <NA>, <NA>, <NA>, <NA>, <NA>, <NA>, <NA>, <NA>, <NA>, <NA>, <NA>, <NA>, 1.0]\n"
     ]
    }
   ],
   "source": [
    "LP_profit = in_pool_value(data_df, 1, 0)"
   ]
  },
  {
   "cell_type": "code",
   "execution_count": 42,
   "metadata": {},
   "outputs": [],
   "source": [
    "write_array_to_csv(LP_profit, \"data\\LP_profit\\gDAI.csv\", timestamp_start)"
   ]
  }
 ],
 "metadata": {
  "kernelspec": {
   "display_name": "BC",
   "language": "python",
   "name": "python3"
  },
  "language_info": {
   "codemirror_mode": {
    "name": "ipython",
    "version": 3
   },
   "file_extension": ".py",
   "mimetype": "text/x-python",
   "name": "python",
   "nbconvert_exporter": "python",
   "pygments_lexer": "ipython3",
   "version": "3.10.4"
  },
  "orig_nbformat": 4
 },
 "nbformat": 4,
 "nbformat_minor": 2
}
